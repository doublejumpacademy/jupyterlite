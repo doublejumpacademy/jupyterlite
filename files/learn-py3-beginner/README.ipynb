{
 "cells": [
  {
   "cell_type": "markdown",
   "metadata": {},
   "source": [
    "# Beginner\n",
    "\n",
    "1. [Strings](https://jerry-git.github.io/learn-python3/notebooks/beginner/html/strings.html) [[notebook]](./notebooks/strings.ipynb) [[exercise]](./exercises/strings_exercise.ipynb)\n",
    "1. [Numbers](https://jerry-git.github.io/learn-python3/notebooks/beginner/html/numbers.html) [[notebook]](./notebooks/numbers.ipynb) [[exercise]](./exercises/numbers_exercise.ipynb)\n",
    "1. [Conditionals](https://jerry-git.github.io/learn-python3/notebooks/beginner/html/conditionals.html) [[notebook]](./notebooks/conditionals.ipynb) [[exercise]](./exercises/conditionals_exercise.ipynb)\n",
    "1. [Lists](https://jerry-git.github.io/learn-python3/notebooks/beginner/html/lists.html) [[notebook]](./notebooks/lists.ipynb) [[exercise]](./exercises/lists_exercise.ipynb)\n",
    "1. [Dictionaries](https://jerry-git.github.io/learn-python3/notebooks/beginner/html/dictionaries.html) [[notebook]](./notebooks/dictionaries.ipynb) [[exercise]](./exercises/dictionaries_exercise.ipynb)\n",
    "1. [For loops](https://jerry-git.github.io/learn-python3/notebooks/beginner/html/for_loops.html) [[notebook]](./notebooks/for_loops.ipynb) [[exercise]](./exercises/for_loops_exercise.ipynb)\n",
    "1. [Functions](https://jerry-git.github.io/learn-python3/notebooks/beginner/html/functions.html) [[notebook]](./notebooks/functions.ipynb) [[exercise]](./exercises/functions_exercise.ipynb)\n",
    "1. [Testing with pytest - part 1](https://jerry-git.github.io/learn-python3/notebooks/beginner/html/testing1.html) [[notebook]](./notebooks/testing1.ipynb) [[exercise]](./exercises/testing1_exercise.ipynb)\n",
    "1. Recap exercise 1 [[exercise]](./exercises/recap1_exercise.ipynb)\n",
    "1. [File I\\O](https://jerry-git.github.io/learn-python3/notebooks/beginner/html/file_io.html) [[notebook]](./notebooks/file_io.ipynb) [[exercise]](./exercises/file_io_exercise.ipynb)\n",
    "1. [Classes](https://jerry-git.github.io/learn-python3/notebooks/beginner/html/classes.html) [[notebook]](./notebooks/classes.ipynb) [[exercise]](./exercises/classes_exercise.ipynb)\n",
    "1. [Exceptions](https://jerry-git.github.io/learn-python3/notebooks/beginner/html/exceptions.html) [[notebook]](./notebooks/exceptions.ipynb) [[exercise]](./exercises/exceptions_exercise.ipynb)\n",
    "1. [Modules and packages](https://jerry-git.github.io/learn-python3/notebooks/beginner/html/modules_and_packages.html) [[notebook]](./notebooks/modules_and_packages.ipynb)\n",
    "1. [Debugging](https://jerry-git.github.io/learn-python3/notebooks/beginner/html/debugging.html) [[notebook]](./notebooks/debugging.ipynb) [[exercise]](./exercises/debugging_exercise.ipynb)\n",
    "1. [Goodies of the Standard Library - part 1](https://jerry-git.github.io/learn-python3/notebooks/beginner/html/std_lib.html) [[notebook]](./notebooks/std_lib.ipynb) [[exercise]](./exercises/std_lib1_exercise.ipynb)\n",
    "1. [Testing with pytest - part 2](https://jerry-git.github.io/learn-python3/notebooks/beginner/html/testing2.html) [[notebook]](./notebooks/testing2.ipynb) [[exercise]](./exercises/testing2_exercise.ipynb)\n",
    "1. [Virtual environment](https://jerry-git.github.io/learn-python3/notebooks/beginner/html/venv.html) [[notebook]](./notebooks/venv.ipynb)\n",
    "1. [Project structure](https://jerry-git.github.io/learn-python3/notebooks/beginner/html/project_structure.html) [[notebook]](./notebooks/project_structure.ipynb)\n",
    "1. Recap exercise 2 [[exercise]](./exercises/recap2_exercise.ipynb)"
   ]
  }
 ],
 "metadata": {
  "interpreter": {
   "hash": "b0fa6594d8f4cbf19f97940f81e996739fb7646882a419484c72d19e05852a7e"
  },
  "kernelspec": {
   "display_name": "Python 3.9.13 64-bit",
   "language": "python",
   "name": "python3"
  },
  "language_info": {
   "name": "python",
   "version": "3.9.13"
  },
  "orig_nbformat": 4
 },
 "nbformat": 4,
 "nbformat_minor": 2
}
