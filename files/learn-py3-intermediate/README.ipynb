{
 "cells": [
  {
   "cell_type": "markdown",
   "metadata": {},
   "source": [
    "#### Idiomatic Python\n",
    "Python is a powerful language which contains many features not presented in most other programming languages. Idiomatic section will cover some of these Pythonic features in detail. These materials are especially useful for people with background in other programming languages.\n",
    "\n",
    "1. [Idiomatic loops](https://jerry-git.github.io/learn-python3/notebooks/intermediate/html/idiomatic_loops.html) [[notebook]](./notebooks/idiomatic_loops.ipynb)\n",
    "1. [Idiomatic dictionaries](https://jerry-git.github.io/learn-python3/notebooks/intermediate/html/idiomatic_dicts.html) [[notebook]](./notebooks/idiomatic_dicts.ipynb)\n",
    "1. [Idiomatic Python - miscellaneous part 1](https://jerry-git.github.io/learn-python3/notebooks/intermediate/html/idiomatic_misc1.html) [[notebook]](./notebooks/idiomatic_misc1.ipynb)\n",
    "1. [Idiomatic Python - miscellaneous part 2](https://jerry-git.github.io/learn-python3/notebooks/intermediate/html/idiomatic_misc2.html) [[notebook]](./notebooks/idiomatic_misc2.ipynb)\n",
    "1. Idiomatic Python exercise [[exercise]](./exercises/idiomatic_python_exercise.ipynb)\n",
    "\n",
    "#### Step up your `pytest` game\n",
    "1. [Efficient use of fixtures](https://jerry-git.github.io/learn-python3/notebooks/intermediate/html/pytest_fixtures.html) [[notebook]](./notebooks/pytest_fixtures.ipynb)\n",
    "1. Other tips and tricks\n",
    "\n",
    "#### Best practices\n",
    "A list of best development practices for Python projects. Most of the practices listed here are also applicable for other languages, however the presented tooling focuses mainly on Python.\n",
    "1. [Best practices](https://jerry-git.github.io/learn-python3/notebooks/intermediate/html/best_practices.html) [[notebook]](./notebooks/best_practices.ipynb)\n",
    "\n",
    "#### General topics\n",
    "1. [Goodies of the Standard Library - part 2](https://jerry-git.github.io/learn-python3/notebooks/intermediate/html/std_lib2.html) [[notebook]](./notebooks/std_lib2.ipynb) [[exercise]](./exercises/std_lib2_exercise.ipynb)\n"
   ]
  }
 ],
 "metadata": {
  "interpreter": {
   "hash": "b0fa6594d8f4cbf19f97940f81e996739fb7646882a419484c72d19e05852a7e"
  },
  "kernelspec": {
   "display_name": "Python 3.9.13 64-bit",
   "language": "python",
   "name": "python3"
  },
  "language_info": {
   "name": "python",
   "version": "3.9.13"
  },
  "orig_nbformat": 4
 },
 "nbformat": 4,
 "nbformat_minor": 2
}
